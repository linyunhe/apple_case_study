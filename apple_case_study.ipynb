{
  "nbformat": 4,
  "nbformat_minor": 0,
  "metadata": {
    "colab": {
      "provenance": [],
      "gpuType": "T4",
      "mount_file_id": "1P8qA9qK6tz6NenBqPgcv3SPr7vk60jpq",
      "authorship_tag": "ABX9TyPif+zvZMNz/dIKSBzkOcfx",
      "include_colab_link": true
    },
    "kernelspec": {
      "name": "python3",
      "display_name": "Python 3"
    },
    "language_info": {
      "name": "python"
    },
    "accelerator": "GPU"
  },
  "cells": [
    {
      "cell_type": "markdown",
      "metadata": {
        "id": "view-in-github",
        "colab_type": "text"
      },
      "source": [
        "<a href=\"https://colab.research.google.com/github/linyunhe/apple_case_study/blob/main/apple_case_study.ipynb\" target=\"_parent\"><img src=\"https://colab.research.google.com/assets/colab-badge.svg\" alt=\"Open In Colab\"/></a>"
      ]
    },
    {
      "cell_type": "code",
      "execution_count": null,
      "metadata": {
        "id": "4_GAk5V8Vj1g"
      },
      "outputs": [],
      "source": []
    },
    {
      "cell_type": "markdown",
      "source": [
        "# Upload data"
      ],
      "metadata": {
        "id": "lZT4O7KnYte7"
      }
    },
    {
      "cell_type": "code",
      "source": [
        "from google.colab import drive\n",
        "drive.mount('/content/drive')"
      ],
      "metadata": {
        "colab": {
          "base_uri": "https://localhost:8080/"
        },
        "id": "g-eCM2whVwCd",
        "outputId": "55ae1364-a85c-4e10-fae8-1471fbc045bf"
      },
      "execution_count": 1,
      "outputs": [
        {
          "output_type": "stream",
          "name": "stdout",
          "text": [
            "Drive already mounted at /content/drive; to attempt to forcibly remount, call drive.mount(\"/content/drive\", force_remount=True).\n"
          ]
        }
      ]
    },
    {
      "cell_type": "code",
      "source": [
        "import zipfile\n",
        "import os\n",
        "\n",
        "# Unzip to /content/apple_case_study\n",
        "zip_path = \"/content/drive/MyDrive/squares.zip\"\n",
        "extract_path = \"/content/apple_case_study\"\n",
        "\n",
        "with zipfile.ZipFile(zip_path, 'r') as zip_ref:\n",
        "    zip_ref.extractall(extract_path)\n",
        "\n",
        "print(\"Done：\", extract_path)\n"
      ],
      "metadata": {
        "colab": {
          "base_uri": "https://localhost:8080/"
        },
        "id": "0EwNpfJpa5XM",
        "outputId": "070a0fc0-483d-4587-e2c3-51c640bb47e0"
      },
      "execution_count": 2,
      "outputs": [
        {
          "output_type": "stream",
          "name": "stdout",
          "text": [
            "Done： /content/apple_case_study\n"
          ]
        }
      ]
    },
    {
      "cell_type": "code",
      "source": [
        "import tensorflow as tf\n",
        "\n",
        "print(\"Device：\")\n",
        "print(tf.config.list_physical_devices())\n"
      ],
      "metadata": {
        "colab": {
          "base_uri": "https://localhost:8080/"
        },
        "id": "eI_hM_0dw_yq",
        "outputId": "16a3564f-a563-4ba0-c670-fe5b3ff6ecbf"
      },
      "execution_count": 3,
      "outputs": [
        {
          "output_type": "stream",
          "name": "stdout",
          "text": [
            "Device：\n",
            "[PhysicalDevice(name='/physical_device:CPU:0', device_type='CPU'), PhysicalDevice(name='/physical_device:GPU:0', device_type='GPU')]\n"
          ]
        }
      ]
    },
    {
      "cell_type": "markdown",
      "source": [
        "## Check how many categories and how many samples each category contains"
      ],
      "metadata": {
        "id": "bxI32-MVnMYS"
      }
    },
    {
      "cell_type": "code",
      "source": [
        "import os\n",
        "for root, dirs, files in os.walk(\"/content/apple_case_study\"):\n",
        "    print(root, \"files:\", dirs, \"count:\", len(files))"
      ],
      "metadata": {
        "colab": {
          "base_uri": "https://localhost:8080/"
        },
        "id": "v31lfLhJXP0o",
        "outputId": "1f91a55e-fe49-43c1-b98a-1170265d9ada"
      },
      "execution_count": 4,
      "outputs": [
        {
          "output_type": "stream",
          "name": "stdout",
          "text": [
            "/content/apple_case_study files: ['__MACOSX', 'squares'] count: 0\n",
            "/content/apple_case_study/__MACOSX files: ['squares'] count: 0\n",
            "/content/apple_case_study/__MACOSX/squares files: ['train', 'val'] count: 3\n",
            "/content/apple_case_study/__MACOSX/squares/train files: ['b', 'c', 'a'] count: 4\n",
            "/content/apple_case_study/__MACOSX/squares/train/b files: [] count: 501\n",
            "/content/apple_case_study/__MACOSX/squares/train/c files: [] count: 500\n",
            "/content/apple_case_study/__MACOSX/squares/train/a files: [] count: 501\n",
            "/content/apple_case_study/__MACOSX/squares/val files: ['b', 'c', 'a'] count: 4\n",
            "/content/apple_case_study/__MACOSX/squares/val/b files: [] count: 500\n",
            "/content/apple_case_study/__MACOSX/squares/val/c files: [] count: 500\n",
            "/content/apple_case_study/__MACOSX/squares/val/a files: [] count: 500\n",
            "/content/apple_case_study/squares files: ['train', 'val'] count: 1\n",
            "/content/apple_case_study/squares/train files: ['b', 'c', 'a'] count: 1\n",
            "/content/apple_case_study/squares/train/b files: [] count: 501\n",
            "/content/apple_case_study/squares/train/c files: [] count: 500\n",
            "/content/apple_case_study/squares/train/a files: [] count: 501\n",
            "/content/apple_case_study/squares/val files: ['b', 'c', 'a'] count: 1\n",
            "/content/apple_case_study/squares/val/b files: [] count: 500\n",
            "/content/apple_case_study/squares/val/c files: [] count: 500\n",
            "/content/apple_case_study/squares/val/a files: [] count: 500\n"
          ]
        }
      ]
    },
    {
      "cell_type": "markdown",
      "source": [
        "### Findings: we have three categories: a,b,c and each of them have 500 images for both train and val.\n",
        "\n",
        "Key points: Balance categories data and small training samples"
      ],
      "metadata": {
        "id": "H-OOzi4_nqG4"
      }
    },
    {
      "cell_type": "markdown",
      "source": [
        "# Image Preprocessing"
      ],
      "metadata": {
        "id": "3-74f9maYwv7"
      }
    },
    {
      "cell_type": "markdown",
      "source": [
        "### Preprocessing include: fix size, set up RGB, normalization and data augmentation"
      ],
      "metadata": {
        "id": "Yc_VnDmioTuP"
      }
    },
    {
      "cell_type": "code",
      "source": [
        "import tensorflow as tf\n",
        "\n",
        "# Fix image size\n",
        "IMG_SIZE = (224, 224)\n",
        "BATCH_SIZE = 32\n",
        "\n",
        "\n",
        "train_ds = tf.keras.preprocessing.image_dataset_from_directory(\n",
        "    \"/content/apple_case_study/squares/train\",\n",
        "    image_size=IMG_SIZE,\n",
        "    batch_size=BATCH_SIZE,\n",
        "    label_mode='categorical'\n",
        ")\n",
        "\n",
        "\n",
        "test_ds = tf.keras.preprocessing.image_dataset_from_directory(\n",
        "    \"/content/apple_case_study/squares/val\",\n",
        "    image_size=IMG_SIZE,\n",
        "    batch_size=BATCH_SIZE,\n",
        "    label_mode='categorical'\n",
        ")\n"
      ],
      "metadata": {
        "colab": {
          "base_uri": "https://localhost:8080/"
        },
        "id": "Ni_s6KTYWePj",
        "outputId": "db1a2085-14b1-4f9e-c706-eff84dd02f04"
      },
      "execution_count": 17,
      "outputs": [
        {
          "output_type": "stream",
          "name": "stdout",
          "text": [
            "Found 1500 files belonging to 3 classes.\n",
            "Found 1500 files belonging to 3 classes.\n"
          ]
        }
      ]
    },
    {
      "cell_type": "code",
      "source": [
        "class_names = test_ds.class_names"
      ],
      "metadata": {
        "id": "0kHuqA_2yGzc"
      },
      "execution_count": 18,
      "outputs": []
    },
    {
      "cell_type": "code",
      "source": [
        "for images, labels in train_ds.take(1):\n",
        "    print(\"image size:\", images.shape)\n",
        "    print(\"image type:\", images.dtype)\n"
      ],
      "metadata": {
        "colab": {
          "base_uri": "https://localhost:8080/"
        },
        "id": "sl-142g3YLA5",
        "outputId": "b0006a3c-312d-4726-d956-5d80495141f2"
      },
      "execution_count": 19,
      "outputs": [
        {
          "output_type": "stream",
          "name": "stdout",
          "text": [
            "image size: (32, 224, 224, 3)\n",
            "image type: <dtype: 'float32'>\n"
          ]
        }
      ]
    },
    {
      "cell_type": "code",
      "source": [
        "for images, labels in test_ds.take(1):\n",
        "    print(\"image size:\", images.shape)  # (batch_size, height, width, channels)\n",
        "    print(\"image type:\", images.dtype)\n"
      ],
      "metadata": {
        "colab": {
          "base_uri": "https://localhost:8080/"
        },
        "id": "MrJ0atKfbiZe",
        "outputId": "1bc3816c-b1d3-467d-daa1-9d6bc40b1b81"
      },
      "execution_count": 20,
      "outputs": [
        {
          "output_type": "stream",
          "name": "stdout",
          "text": [
            "image size: (32, 224, 224, 3)\n",
            "image type: <dtype: 'float32'>\n"
          ]
        }
      ]
    },
    {
      "cell_type": "markdown",
      "source": [
        "Key points: No weird image dtypes"
      ],
      "metadata": {
        "id": "-wW7_m2LqtWB"
      }
    },
    {
      "cell_type": "code",
      "source": [
        "normalization_layer = tf.keras.layers.Rescaling(1./255)"
      ],
      "metadata": {
        "id": "eTJAr7Y4pyG8"
      },
      "execution_count": 8,
      "outputs": []
    },
    {
      "cell_type": "code",
      "source": [
        "data_augmentation = tf.keras.Sequential([\n",
        "    tf.keras.layers.RandomFlip(\"horizontal\"),\n",
        "    tf.keras.layers.RandomRotation(0.1),\n",
        "    tf.keras.layers.RandomZoom(0.1),\n",
        "])\n"
      ],
      "metadata": {
        "id": "Yu1xFoXiWsdP"
      },
      "execution_count": 9,
      "outputs": []
    },
    {
      "cell_type": "markdown",
      "source": [
        "# Model sequence (convNet)"
      ],
      "metadata": {
        "id": "NjJs8aj_Y0mR"
      }
    },
    {
      "cell_type": "code",
      "source": [
        "from tensorflow.keras import layers, models\n",
        "\n",
        "model = models.Sequential([\n",
        "    normalization_layer,  # normalization\n",
        "\n",
        "    data_augmentation,  # data augmentation\n",
        "\n",
        "    layers.Conv2D(32, 3, activation='relu'),\n",
        "    layers.MaxPooling2D(),\n",
        "\n",
        "    layers.Conv2D(64, 3, activation='relu'),\n",
        "    layers.MaxPooling2D(),\n",
        "\n",
        "    layers.Flatten(),\n",
        "    layers.Dense(64, activation='relu'),\n",
        "    layers.Dense(3, activation='softmax')  # three class categories\n",
        "])\n"
      ],
      "metadata": {
        "id": "GIeBu4e2X5wC"
      },
      "execution_count": 10,
      "outputs": []
    },
    {
      "cell_type": "markdown",
      "source": [
        "Start with a simple convNet (x32x64) and then one layer head (x64) for three categories"
      ],
      "metadata": {
        "id": "qKaJAMIgq1ST"
      }
    },
    {
      "cell_type": "code",
      "source": [
        "AUTOTUNE = tf.data.AUTOTUNE\n",
        "\n",
        "train_ds = train_ds.cache().shuffle(1000).prefetch(buffer_size=AUTOTUNE)\n",
        "test_ds = test_ds.cache().prefetch(buffer_size=AUTOTUNE)\n"
      ],
      "metadata": {
        "id": "YEGsk9qQxWOM"
      },
      "execution_count": 11,
      "outputs": []
    },
    {
      "cell_type": "code",
      "source": [
        "import tensorflow as tf\n",
        "\n",
        "tf.debugging.set_log_device_placement(True)"
      ],
      "metadata": {
        "id": "bXDLmrZ3xcfS"
      },
      "execution_count": 12,
      "outputs": []
    },
    {
      "cell_type": "code",
      "source": [
        "from tensorflow.keras.callbacks import EarlyStopping\n",
        "model.compile(\n",
        "    optimizer='adam',\n",
        "    loss='categorical_crossentropy',\n",
        "    metrics=['accuracy']\n",
        ")\n",
        "\n",
        "\n",
        "early_stop = EarlyStopping(\n",
        "    monitor='val_accuracy',\n",
        "    patience=3,\n",
        "    restore_best_weights=True\n",
        ")\n",
        "history = model.fit(\n",
        "    train_ds,\n",
        "    validation_data=test_ds,\n",
        "    epochs=15,\n",
        "    callbacks=[early_stop]\n",
        ")\n"
      ],
      "metadata": {
        "colab": {
          "base_uri": "https://localhost:8080/"
        },
        "id": "MyA_H_tBYI80",
        "outputId": "01c71bfe-8dc8-463c-dc10-3af5358838bc"
      },
      "execution_count": 13,
      "outputs": [
        {
          "output_type": "stream",
          "name": "stdout",
          "text": [
            "Epoch 1/15\n",
            "\u001b[1m47/47\u001b[0m \u001b[32m━━━━━━━━━━━━━━━━━━━━\u001b[0m\u001b[37m\u001b[0m \u001b[1m15s\u001b[0m 113ms/step - accuracy: 0.3829 - loss: 2.2070 - val_accuracy: 0.7867 - val_loss: 0.5822\n",
            "Epoch 2/15\n",
            "\u001b[1m47/47\u001b[0m \u001b[32m━━━━━━━━━━━━━━━━━━━━\u001b[0m\u001b[37m\u001b[0m \u001b[1m3s\u001b[0m 59ms/step - accuracy: 0.8324 - loss: 0.4436 - val_accuracy: 0.9193 - val_loss: 0.2206\n",
            "Epoch 3/15\n",
            "\u001b[1m47/47\u001b[0m \u001b[32m━━━━━━━━━━━━━━━━━━━━\u001b[0m\u001b[37m\u001b[0m \u001b[1m5s\u001b[0m 58ms/step - accuracy: 0.9496 - loss: 0.1599 - val_accuracy: 0.9367 - val_loss: 0.1961\n",
            "Epoch 4/15\n",
            "\u001b[1m47/47\u001b[0m \u001b[32m━━━━━━━━━━━━━━━━━━━━\u001b[0m\u001b[37m\u001b[0m \u001b[1m3s\u001b[0m 56ms/step - accuracy: 0.9614 - loss: 0.1120 - val_accuracy: 0.9387 - val_loss: 0.2353\n",
            "Epoch 5/15\n",
            "\u001b[1m47/47\u001b[0m \u001b[32m━━━━━━━━━━━━━━━━━━━━\u001b[0m\u001b[37m\u001b[0m \u001b[1m3s\u001b[0m 55ms/step - accuracy: 0.9707 - loss: 0.1056 - val_accuracy: 0.9193 - val_loss: 0.2196\n",
            "Epoch 6/15\n",
            "\u001b[1m47/47\u001b[0m \u001b[32m━━━━━━━━━━━━━━━━━━━━\u001b[0m\u001b[37m\u001b[0m \u001b[1m3s\u001b[0m 58ms/step - accuracy: 0.9657 - loss: 0.1016 - val_accuracy: 0.9713 - val_loss: 0.1008\n",
            "Epoch 7/15\n",
            "\u001b[1m47/47\u001b[0m \u001b[32m━━━━━━━━━━━━━━━━━━━━\u001b[0m\u001b[37m\u001b[0m \u001b[1m5s\u001b[0m 56ms/step - accuracy: 0.9627 - loss: 0.1196 - val_accuracy: 0.9513 - val_loss: 0.1588\n",
            "Epoch 8/15\n",
            "\u001b[1m47/47\u001b[0m \u001b[32m━━━━━━━━━━━━━━━━━━━━\u001b[0m\u001b[37m\u001b[0m \u001b[1m3s\u001b[0m 55ms/step - accuracy: 0.9514 - loss: 0.1552 - val_accuracy: 0.9707 - val_loss: 0.1283\n",
            "Epoch 9/15\n",
            "\u001b[1m47/47\u001b[0m \u001b[32m━━━━━━━━━━━━━━━━━━━━\u001b[0m\u001b[37m\u001b[0m \u001b[1m3s\u001b[0m 55ms/step - accuracy: 0.9787 - loss: 0.0695 - val_accuracy: 0.9507 - val_loss: 0.1359\n"
          ]
        }
      ]
    },
    {
      "cell_type": "markdown",
      "source": [
        "### Plot the curve to see whether it is converged"
      ],
      "metadata": {
        "id": "AYtaxdzJrHbB"
      }
    },
    {
      "cell_type": "code",
      "source": [
        "import matplotlib.pyplot as plt\n",
        "\n",
        "plt.figure(figsize=(12, 4))\n",
        "\n",
        "plt.subplot(1, 2, 1)\n",
        "plt.plot(history.history['accuracy'], label='Train Acc')\n",
        "plt.plot(history.history['val_accuracy'], label='Val Acc')\n",
        "plt.legend()\n",
        "plt.title('Accuracy')\n",
        "\n",
        "plt.subplot(1, 2, 2)\n",
        "plt.plot(history.history['loss'], label='Train Loss')\n",
        "plt.plot(history.history['val_loss'], label='Val Loss')\n",
        "plt.legend()\n",
        "plt.title('Loss')\n",
        "\n",
        "plt.show()\n"
      ],
      "metadata": {
        "colab": {
          "base_uri": "https://localhost:8080/",
          "height": 382
        },
        "id": "T-GwW5t5cE4s",
        "outputId": "94501e36-93a0-494c-9ba7-e86e4b2fcc72"
      },
      "execution_count": 14,
      "outputs": [
        {
          "output_type": "display_data",
          "data": {
            "text/plain": [
              "<Figure size 1200x400 with 2 Axes>"
            ],
            "image/png": "[encoded data removed]"
          },
          "metadata": {}
        }
      ]
    },
    {
      "cell_type": "markdown",
      "source": [
        "It seems like it converges and no overfitting thus save the current model."
      ],
      "metadata": {
        "id": "HWqTHgcSrQ_V"
      }
    },
    {
      "cell_type": "code",
      "source": [
        "model.save('conv_v1.h5')  # save model\n"
      ],
      "metadata": {
        "colab": {
          "base_uri": "https://localhost:8080/"
        },
        "id": "7pmKfUghk3UJ",
        "outputId": "13f7ab50-5ca3-406f-93f5-9aff4eb0c17d"
      },
      "execution_count": 15,
      "outputs": [
        {
          "output_type": "stream",
          "name": "stderr",
          "text": [
            "WARNING:absl:You are saving your model as an HDF5 file via `model.save()` or `keras.saving.save_model(model)`. This file format is considered legacy. We recommend using instead the native Keras format, e.g. `model.save('my_model.keras')` or `keras.saving.save_model(model, 'my_model.keras')`. \n"
          ]
        }
      ]
    },
    {
      "cell_type": "markdown",
      "source": [
        "Currenty we know the previous model accuracy is 95% which is good but we can take a deeper look to see whether our model learns each class equivalently good."
      ],
      "metadata": {
        "id": "9R_2Pq0grhV-"
      }
    },
    {
      "cell_type": "code",
      "source": [
        "import numpy as np\n",
        "from sklearn.metrics import classification_report\n",
        "import tensorflow as tf\n",
        "\n",
        "y_true = []\n",
        "y_pred = []\n",
        "\n",
        "for images, labels in test_ds:\n",
        "    preds = model.predict(images)\n",
        "    y_true.extend(np.argmax(labels.numpy(), axis=1))\n",
        "    y_pred.extend(np.argmax(preds, axis=1))\n",
        "\n",
        "class_names = test_ds.class_names\n",
        "\n",
        "report = classification_report(y_true, y_pred, target_names=class_names, digits=4)\n",
        "print(report)\n"
      ],
      "metadata": {
        "colab": {
          "base_uri": "https://localhost:8080/"
        },
        "id": "qpI8r7xklZK6",
        "outputId": "b0b3df91-d036-45b3-c6b1-aa12915bc501"
      },
      "execution_count": 21,
      "outputs": [
        {
          "output_type": "stream",
          "name": "stdout",
          "text": [
            "\u001b[1m1/1\u001b[0m \u001b[32m━━━━━━━━━━━━━━━━━━━━\u001b[0m\u001b[37m\u001b[0m \u001b[1m0s\u001b[0m 86ms/step\n",
            "\u001b[1m1/1\u001b[0m \u001b[32m━━━━━━━━━━━━━━━━━━━━\u001b[0m\u001b[37m\u001b[0m \u001b[1m0s\u001b[0m 60ms/step\n",
            "\u001b[1m1/1\u001b[0m \u001b[32m━━━━━━━━━━━━━━━━━━━━\u001b[0m\u001b[37m\u001b[0m \u001b[1m0s\u001b[0m 45ms/step\n",
            "\u001b[1m1/1\u001b[0m \u001b[32m━━━━━━━━━━━━━━━━━━━━\u001b[0m\u001b[37m\u001b[0m \u001b[1m0s\u001b[0m 47ms/step\n",
            "\u001b[1m1/1\u001b[0m \u001b[32m━━━━━━━━━━━━━━━━━━━━\u001b[0m\u001b[37m\u001b[0m \u001b[1m0s\u001b[0m 46ms/step\n",
            "\u001b[1m1/1\u001b[0m \u001b[32m━━━━━━━━━━━━━━━━━━━━\u001b[0m\u001b[37m\u001b[0m \u001b[1m0s\u001b[0m 49ms/step\n",
            "\u001b[1m1/1\u001b[0m \u001b[32m━━━━━━━━━━━━━━━━━━━━\u001b[0m\u001b[37m\u001b[0m \u001b[1m0s\u001b[0m 52ms/step\n",
            "\u001b[1m1/1\u001b[0m \u001b[32m━━━━━━━━━━━━━━━━━━━━\u001b[0m\u001b[37m\u001b[0m \u001b[1m0s\u001b[0m 49ms/step\n",
            "\u001b[1m1/1\u001b[0m \u001b[32m━━━━━━━━━━━━━━━━━━━━\u001b[0m\u001b[37m\u001b[0m \u001b[1m0s\u001b[0m 46ms/step\n",
            "\u001b[1m1/1\u001b[0m \u001b[32m━━━━━━━━━━━━━━━━━━━━\u001b[0m\u001b[37m\u001b[0m \u001b[1m0s\u001b[0m 50ms/step\n",
            "\u001b[1m1/1\u001b[0m \u001b[32m━━━━━━━━━━━━━━━━━━━━\u001b[0m\u001b[37m\u001b[0m \u001b[1m0s\u001b[0m 45ms/step\n",
            "\u001b[1m1/1\u001b[0m \u001b[32m━━━━━━━━━━━━━━━━━━━━\u001b[0m\u001b[37m\u001b[0m \u001b[1m0s\u001b[0m 48ms/step\n",
            "\u001b[1m1/1\u001b[0m \u001b[32m━━━━━━━━━━━━━━━━━━━━\u001b[0m\u001b[37m\u001b[0m \u001b[1m0s\u001b[0m 46ms/step\n",
            "\u001b[1m1/1\u001b[0m \u001b[32m━━━━━━━━━━━━━━━━━━━━\u001b[0m\u001b[37m\u001b[0m \u001b[1m0s\u001b[0m 45ms/step\n",
            "\u001b[1m1/1\u001b[0m \u001b[32m━━━━━━━━━━━━━━━━━━━━\u001b[0m\u001b[37m\u001b[0m \u001b[1m0s\u001b[0m 46ms/step\n",
            "\u001b[1m1/1\u001b[0m \u001b[32m━━━━━━━━━━━━━━━━━━━━\u001b[0m\u001b[37m\u001b[0m \u001b[1m0s\u001b[0m 52ms/step\n",
            "\u001b[1m1/1\u001b[0m \u001b[32m━━━━━━━━━━━━━━━━━━━━\u001b[0m\u001b[37m\u001b[0m \u001b[1m0s\u001b[0m 50ms/step\n",
            "\u001b[1m1/1\u001b[0m \u001b[32m━━━━━━━━━━━━━━━━━━━━\u001b[0m\u001b[37m\u001b[0m \u001b[1m0s\u001b[0m 58ms/step\n",
            "\u001b[1m1/1\u001b[0m \u001b[32m━━━━━━━━━━━━━━━━━━━━\u001b[0m\u001b[37m\u001b[0m \u001b[1m0s\u001b[0m 52ms/step\n",
            "\u001b[1m1/1\u001b[0m \u001b[32m━━━━━━━━━━━━━━━━━━━━\u001b[0m\u001b[37m\u001b[0m \u001b[1m0s\u001b[0m 60ms/step\n",
            "\u001b[1m1/1\u001b[0m \u001b[32m━━━━━━━━━━━━━━━━━━━━\u001b[0m\u001b[37m\u001b[0m \u001b[1m0s\u001b[0m 45ms/step\n",
            "\u001b[1m1/1\u001b[0m \u001b[32m━━━━━━━━━━━━━━━━━━━━\u001b[0m\u001b[37m\u001b[0m \u001b[1m0s\u001b[0m 45ms/step\n",
            "\u001b[1m1/1\u001b[0m \u001b[32m━━━━━━━━━━━━━━━━━━━━\u001b[0m\u001b[37m\u001b[0m \u001b[1m0s\u001b[0m 46ms/step\n",
            "\u001b[1m1/1\u001b[0m \u001b[32m━━━━━━━━━━━━━━━━━━━━\u001b[0m\u001b[37m\u001b[0m \u001b[1m0s\u001b[0m 54ms/step\n",
            "\u001b[1m1/1\u001b[0m \u001b[32m━━━━━━━━━━━━━━━━━━━━\u001b[0m\u001b[37m\u001b[0m \u001b[1m0s\u001b[0m 69ms/step\n",
            "\u001b[1m1/1\u001b[0m \u001b[32m━━━━━━━━━━━━━━━━━━━━\u001b[0m\u001b[37m\u001b[0m \u001b[1m0s\u001b[0m 47ms/step\n",
            "\u001b[1m1/1\u001b[0m \u001b[32m━━━━━━━━━━━━━━━━━━━━\u001b[0m\u001b[37m\u001b[0m \u001b[1m0s\u001b[0m 46ms/step\n",
            "\u001b[1m1/1\u001b[0m \u001b[32m━━━━━━━━━━━━━━━━━━━━\u001b[0m\u001b[37m\u001b[0m \u001b[1m0s\u001b[0m 46ms/step\n",
            "\u001b[1m1/1\u001b[0m \u001b[32m━━━━━━━━━━━━━━━━━━━━\u001b[0m\u001b[37m\u001b[0m \u001b[1m0s\u001b[0m 48ms/step\n",
            "\u001b[1m1/1\u001b[0m \u001b[32m━━━━━━━━━━━━━━━━━━━━\u001b[0m\u001b[37m\u001b[0m \u001b[1m0s\u001b[0m 46ms/step\n",
            "\u001b[1m1/1\u001b[0m \u001b[32m━━━━━━━━━━━━━━━━━━━━\u001b[0m\u001b[37m\u001b[0m \u001b[1m0s\u001b[0m 47ms/step\n",
            "\u001b[1m1/1\u001b[0m \u001b[32m━━━━━━━━━━━━━━━━━━━━\u001b[0m\u001b[37m\u001b[0m \u001b[1m0s\u001b[0m 48ms/step\n",
            "\u001b[1m1/1\u001b[0m \u001b[32m━━━━━━━━━━━━━━━━━━━━\u001b[0m\u001b[37m\u001b[0m \u001b[1m0s\u001b[0m 48ms/step\n",
            "\u001b[1m1/1\u001b[0m \u001b[32m━━━━━━━━━━━━━━━━━━━━\u001b[0m\u001b[37m\u001b[0m \u001b[1m0s\u001b[0m 47ms/step\n",
            "\u001b[1m1/1\u001b[0m \u001b[32m━━━━━━━━━━━━━━━━━━━━\u001b[0m\u001b[37m\u001b[0m \u001b[1m0s\u001b[0m 59ms/step\n",
            "\u001b[1m1/1\u001b[0m \u001b[32m━━━━━━━━━━━━━━━━━━━━\u001b[0m\u001b[37m\u001b[0m \u001b[1m0s\u001b[0m 53ms/step\n",
            "\u001b[1m1/1\u001b[0m \u001b[32m━━━━━━━━━━━━━━━━━━━━\u001b[0m\u001b[37m\u001b[0m \u001b[1m0s\u001b[0m 45ms/step\n",
            "\u001b[1m1/1\u001b[0m \u001b[32m━━━━━━━━━━━━━━━━━━━━\u001b[0m\u001b[37m\u001b[0m \u001b[1m0s\u001b[0m 45ms/step\n",
            "\u001b[1m1/1\u001b[0m \u001b[32m━━━━━━━━━━━━━━━━━━━━\u001b[0m\u001b[37m\u001b[0m \u001b[1m0s\u001b[0m 52ms/step\n",
            "\u001b[1m1/1\u001b[0m \u001b[32m━━━━━━━━━━━━━━━━━━━━\u001b[0m\u001b[37m\u001b[0m \u001b[1m0s\u001b[0m 46ms/step\n",
            "\u001b[1m1/1\u001b[0m \u001b[32m━━━━━━━━━━━━━━━━━━━━\u001b[0m\u001b[37m\u001b[0m \u001b[1m0s\u001b[0m 48ms/step\n",
            "\u001b[1m1/1\u001b[0m \u001b[32m━━━━━━━━━━━━━━━━━━━━\u001b[0m\u001b[37m\u001b[0m \u001b[1m0s\u001b[0m 66ms/step\n",
            "\u001b[1m1/1\u001b[0m \u001b[32m━━━━━━━━━━━━━━━━━━━━\u001b[0m\u001b[37m\u001b[0m \u001b[1m0s\u001b[0m 61ms/step\n",
            "\u001b[1m1/1\u001b[0m \u001b[32m━━━━━━━━━━━━━━━━━━━━\u001b[0m\u001b[37m\u001b[0m \u001b[1m0s\u001b[0m 77ms/step\n",
            "\u001b[1m1/1\u001b[0m \u001b[32m━━━━━━━━━━━━━━━━━━━━\u001b[0m\u001b[37m\u001b[0m \u001b[1m0s\u001b[0m 62ms/step\n",
            "\u001b[1m1/1\u001b[0m \u001b[32m━━━━━━━━━━━━━━━━━━━━\u001b[0m\u001b[37m\u001b[0m \u001b[1m0s\u001b[0m 61ms/step\n",
            "\u001b[1m1/1\u001b[0m \u001b[32m━━━━━━━━━━━━━━━━━━━━\u001b[0m\u001b[37m\u001b[0m \u001b[1m0s\u001b[0m 66ms/step\n",
            "              precision    recall  f1-score   support\n",
            "\n",
            "           a     0.9612    0.9900    0.9754       500\n",
            "           b     0.9872    0.9260    0.9556       500\n",
            "           c     0.9671    0.9980    0.9823       500\n",
            "\n",
            "    accuracy                         0.9713      1500\n",
            "   macro avg     0.9718    0.9713    0.9711      1500\n",
            "weighted avg     0.9718    0.9713    0.9711      1500\n",
            "\n"
          ]
        }
      ]
    },
    {
      "cell_type": "markdown",
      "source": [
        "Model achieved 97.1% overall accuracy. All three classes had precision and recall in the 96–99% range, with class b being slightly more challenging, likely due to subtle visual overlaps with class a."
      ],
      "metadata": {
        "id": "bwFAOJ6DyYEa"
      }
    },
    {
      "cell_type": "markdown",
      "source": [
        "Interestingly, I didn’t change the model architecture—just re-trained it with GPU acceleration, better data pipeline (cache + prefetch), and cleaner Colab session. The accuracy jumped from ~92.8% to over 97%. This shows that:\n",
        "\n",
        "The model was already well-designed\n",
        "\n",
        "Prior slowness and instability (e.g. CPU + no pipeline optimization) might have caused suboptimal convergence\n",
        "\n",
        "Training reproducibility and environment tuning can have a major impact even when architecture stays the same”"
      ],
      "metadata": {
        "id": "aw-FQqH3ytEK"
      }
    },
    {
      "cell_type": "code",
      "source": [
        "from sklearn.metrics import confusion_matrix, ConfusionMatrixDisplay\n",
        "\n",
        "cm = confusion_matrix(y_true, y_pred)\n",
        "disp = ConfusionMatrixDisplay(confusion_matrix=cm, display_labels=class_names)\n",
        "disp.plot(cmap='Blues')\n",
        "plt.title(\"Confusion Matrix\")\n",
        "plt.show()\n"
      ],
      "metadata": {
        "colab": {
          "base_uri": "https://localhost:8080/",
          "height": 472
        },
        "id": "baS5dBIxtcHJ",
        "outputId": "8d143b2a-39b2-4d4c-be4e-b804a778dfc5"
      },
      "execution_count": 22,
      "outputs": [
        {
          "output_type": "display_data",
          "data": {
            "text/plain": [
              "<Figure size 640x480 with 2 Axes>"
            ],
            "image/png": "[encoded data removed]"
          },
          "metadata": {}
        }
      ]
    },
    {
      "cell_type": "markdown",
      "source": [
        "So it seems like for for a and c, we have pretty good precision and recall. If we break down b we can found:\n",
        "almost all a and c are succeeded to clarify and low precision is from b misclaried as a or c.\n",
        "\n",
        "Thus we can plot some misclarified b and compared it with a to see why they are misclarified"
      ],
      "metadata": {
        "id": "lXSiaYtTrxm5"
      }
    },
    {
      "cell_type": "code",
      "source": [
        "import matplotlib.pyplot as plt\n",
        "import numpy as np\n",
        "\n",
        "test_images = []\n",
        "test_labels = []\n",
        "\n",
        "for images, labels in test_ds:\n",
        "    test_images.extend(images)\n",
        "    test_labels.extend(labels.numpy())\n",
        "\n",
        "# predict\n",
        "preds = model.predict(tf.stack(test_images))\n",
        "pred_labels = tf.argmax(preds, axis=1).numpy()\n",
        "true_labels = tf.argmax(test_labels, axis=1).numpy()\n",
        "\n",
        "# focus on a and b\n",
        "class_index_a = 0\n",
        "class_index_b = 1\n",
        "\n",
        "# b misclarify as a\n",
        "wrong_idx = [i for i, (t, p) in enumerate(zip(true_labels, pred_labels)) if t == class_index_b and p == class_index_a]\n",
        "\n",
        "# true a\n",
        "true_a_idx = [i for i, (t, p) in enumerate(zip(true_labels, pred_labels)) if t == class_index_a and p == class_index_a]\n",
        "\n",
        "# true b\n",
        "true_b_idx = [i for i, (t, p) in enumerate(zip(true_labels, pred_labels)) if t == class_index_b and p == class_index_b]\n",
        "\n",
        "# pick top 5 to compare\n",
        "num_samples = min(5, len(wrong_idx), len(true_a_idx), len(true_b_idx))\n",
        "\n",
        "plt.figure(figsize=(15, 3 * num_samples))\n",
        "\n",
        "for i in range(num_samples):\n",
        "    #（Pred a, True b）\n",
        "    idx_wrong = wrong_idx[i]\n",
        "    plt.subplot(num_samples, 3, i * 3 + 1)\n",
        "    plt.imshow(test_images[idx_wrong].numpy().astype(\"uint8\"))\n",
        "    plt.axis('off')\n",
        "    plt.title(\"Pred a\\nTrue b\", fontsize=10)\n",
        "\n",
        "    # true a\n",
        "    idx_a = true_a_idx[i]\n",
        "    plt.subplot(num_samples, 3, i * 3 + 2)\n",
        "    plt.imshow(test_images[idx_a].numpy().astype(\"uint8\"))\n",
        "    plt.axis('off')\n",
        "    plt.title(\"True a\", fontsize=10)\n",
        "\n",
        "    # true b\n",
        "    idx_b = true_b_idx[i]\n",
        "    plt.subplot(num_samples, 3, i * 3 + 3)\n",
        "    plt.imshow(test_images[idx_b].numpy().astype(\"uint8\"))\n",
        "    plt.axis('off')\n",
        "    plt.title(\"True b\", fontsize=10)\n",
        "\n",
        "plt.tight_layout()\n",
        "plt.suptitle(\"Misclassified b→a vs True a vs True b\", fontsize=14, y=1.02)\n",
        "plt.show()\n"
      ],
      "metadata": {
        "colab": {
          "base_uri": "https://localhost:8080/",
          "height": 1000
        },
        "id": "PTce0Ggaur_V",
        "outputId": "a328dadc-ad5e-41bf-d510-107d7bce0f1e"
      },
      "execution_count": 23,
      "outputs": [
        {
          "output_type": "stream",
          "name": "stdout",
          "text": [
            "\u001b[1m47/47\u001b[0m \u001b[32m━━━━━━━━━━━━━━━━━━━━\u001b[0m\u001b[37m\u001b[0m \u001b[1m1s\u001b[0m 19ms/step\n"
          ]
        },
        {
          "output_type": "display_data",
          "data": {
            "text/plain": [
              "<Figure size 1500x1500 with 15 Axes>"
            ],
            "image/png": "[encoded data removed]"
          },
          "metadata": {}
        }
      ]
    },
    {
      "cell_type": "markdown",
      "source": [
        "In this example, the misclassified b samples are visually indistinguishable from class a — both in terms of color and shape. These errors are not due to model flaws, but rather due to semantic overlap in the input space. Even a human would likely confuse them without additional context.”\n",
        "\n",
        "“This highlights the limits of purely image-based classification — some ambiguity is inherent, and additional modalities or metadata may be required to push performance further.”"
      ],
      "metadata": {
        "id": "MJZnBcAtzRen"
      }
    },
    {
      "cell_type": "code",
      "source": [
        "import matplotlib.pyplot as plt\n",
        "import numpy as np\n",
        "\n",
        "test_images = []\n",
        "test_labels = []\n",
        "\n",
        "for images, labels in test_ds:\n",
        "    test_images.extend(images)\n",
        "    test_labels.extend(labels.numpy())\n",
        "\n",
        "# predict\n",
        "preds = model.predict(tf.stack(test_images))\n",
        "pred_labels = tf.argmax(preds, axis=1).numpy()\n",
        "true_labels = tf.argmax(test_labels, axis=1).numpy()\n",
        "\n",
        "# focus on a and b\n",
        "class_index_c = 0\n",
        "class_index_b = 1\n",
        "\n",
        "# b misclarify as c\n",
        "wrong_idx = [i for i, (t, p) in enumerate(zip(true_labels, pred_labels)) if t == class_index_b and p == class_index_c]\n",
        "\n",
        "# true c\n",
        "true_a_idx = [i for i, (t, p) in enumerate(zip(true_labels, pred_labels)) if t == class_index_c and p == class_index_c]\n",
        "\n",
        "# true b\n",
        "true_b_idx = [i for i, (t, p) in enumerate(zip(true_labels, pred_labels)) if t == class_index_b and p == class_index_b]\n",
        "\n",
        "# pick top 5 to compare\n",
        "num_samples = min(5, len(wrong_idx), len(true_a_idx), len(true_b_idx))\n",
        "\n",
        "plt.figure(figsize=(15, 3 * num_samples))\n",
        "\n",
        "for i in range(num_samples):\n",
        "    #（Pred a, True b）\n",
        "    idx_wrong = wrong_idx[i]\n",
        "    plt.subplot(num_samples, 3, i * 3 + 1)\n",
        "    plt.imshow(test_images[idx_wrong].numpy().astype(\"uint8\"))\n",
        "    plt.axis('off')\n",
        "    plt.title(\"Pred c\\nTrue b\", fontsize=10)\n",
        "\n",
        "    # true c\n",
        "    idx_a = true_a_idx[i]\n",
        "    plt.subplot(num_samples, 3, i * 3 + 2)\n",
        "    plt.imshow(test_images[idx_a].numpy().astype(\"uint8\"))\n",
        "    plt.axis('off')\n",
        "    plt.title(\"True c\", fontsize=10)\n",
        "\n",
        "    # true b\n",
        "    idx_b = true_b_idx[i]\n",
        "    plt.subplot(num_samples, 3, i * 3 + 3)\n",
        "    plt.imshow(test_images[idx_b].numpy().astype(\"uint8\"))\n",
        "    plt.axis('off')\n",
        "    plt.title(\"True b\", fontsize=10)\n",
        "\n",
        "plt.tight_layout()\n",
        "plt.suptitle(\"Misclassified b→c vs True c vs True b\", fontsize=14, y=1.02)\n",
        "plt.show()\n"
      ],
      "metadata": {
        "colab": {
          "base_uri": "https://localhost:8080/",
          "height": 1000
        },
        "id": "oM3S9iWqzZo-",
        "outputId": "9af76fb2-5611-492c-f9f8-9dea17bd808f"
      },
      "execution_count": 24,
      "outputs": [
        {
          "output_type": "stream",
          "name": "stdout",
          "text": [
            "\u001b[1m47/47\u001b[0m \u001b[32m━━━━━━━━━━━━━━━━━━━━\u001b[0m\u001b[37m\u001b[0m \u001b[1m1s\u001b[0m 19ms/step\n"
          ]
        },
        {
          "output_type": "display_data",
          "data": {
            "text/plain": [
              "<Figure size 1500x1500 with 15 Axes>"
            ],
            "image/png": "[encoded data removed]"
          },
          "metadata": {}
        }
      ]
    },
    {
      "cell_type": "markdown",
      "source": [
        "## Summary\n",
        "\n",
        "This model has achieved high accuracy, with both recall and precision in the 92–98% range — particularly strong for class c. Most misclassifications (e.g., class b misclassified as class a) occur on visually ambiguous samples with low information content. In real-world settings, these examples often fall into the category of “even humans would struggle to distinguish them”, indicating that further aggressive optimization is not only unnecessary but potentially misleading.\n",
        "\n",
        "## Key Insight:\n",
        "\n",
        "The model has already learned what it should learn — this is not undertraining, but a reflection of the natural ambiguity in the data itself.\n",
        "\n",
        "## Potential Next Steps:\n",
        "\n",
        "If class b contains heterogeneous visual patterns, consider splitting it into finer-grained subtypes or re-annotating ambiguous samples for better label clarity.\n",
        "\n",
        "Optionally explore multi-modal input or contextual metadata, if available, to disambiguate visually similar classes.\n",
        "\n"
      ],
      "metadata": {
        "id": "SqRr6Dpo03ts"
      }
    },
    {
      "cell_type": "code",
      "source": [],
      "metadata": {
        "id": "wztoiiru1jbZ"
      },
      "execution_count": null,
      "outputs": []
    }
  ]
}