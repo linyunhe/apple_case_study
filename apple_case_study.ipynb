{
  "nbformat": 4,
  "nbformat_minor": 0,
  "metadata": {
    "colab": {
      "provenance": [],
      "gpuType": "T4",
      "mount_file_id": "1P8qA9qK6tz6NenBqPgcv3SPr7vk60jpq",
      "authorship_tag": "ABX9TyP6G9TdjtLyGoyb4LzKWWdH",
      "include_colab_link": true
    },
    "kernelspec": {
      "name": "python3",
      "display_name": "Python 3"
    },
    "language_info": {
      "name": "python"
    },
    "accelerator": "GPU"
  },
  "cells": [
    {
      "cell_type": "markdown",
      "metadata": {
        "id": "view-in-github",
        "colab_type": "text"
      },
      "source": [
        "<a href=\"https://colab.research.google.com/github/linyunhe/apple_case_study/blob/main/apple_case_study.ipynb\" target=\"_parent\"><img src=\"https://colab.research.google.com/assets/colab-badge.svg\" alt=\"Open In Colab\"/></a>"
      ]
    },
    {
      "cell_type": "code",
      "execution_count": null,
      "metadata": {
        "id": "4_GAk5V8Vj1g"
      },
      "outputs": [],
      "source": []
    },
    {
      "cell_type": "markdown",
      "source": [
        "# Upload data"
      ],
      "metadata": {
        "id": "lZT4O7KnYte7"
      }
    },
    {
      "cell_type": "code",
      "source": [
        "from google.colab import drive\n",
        "drive.mount('/content/drive')"
      ],
      "metadata": {
        "colab": {
          "base_uri": "https://localhost:8080/"
        },
        "id": "g-eCM2whVwCd",
        "outputId": "b6f95563-5c08-4f13-8c0f-1b607413be65"
      },
      "execution_count": 1,
      "outputs": [
        {
          "output_type": "stream",
          "name": "stdout",
          "text": [
            "Drive already mounted at /content/drive; to attempt to forcibly remount, call drive.mount(\"/content/drive\", force_remount=True).\n"
          ]
        }
      ]
    },
    {
      "cell_type": "code",
      "source": [
        "import zipfile\n",
        "import os\n",
        "\n",
        "# Unzip to /content/apple_case_study\n",
        "zip_path = \"/content/drive/MyDrive/squares.zip\"\n",
        "extract_path = \"/content/apple_case_study\"\n",
        "\n",
        "with zipfile.ZipFile(zip_path, 'r') as zip_ref:\n",
        "    zip_ref.extractall(extract_path)\n",
        "\n",
        "print(\"Done：\", extract_path)\n"
      ],
      "metadata": {
        "colab": {
          "base_uri": "https://localhost:8080/"
        },
        "id": "0EwNpfJpa5XM",
        "outputId": "73f0324d-a096-4812-8b5e-60621f8bdef7"
      },
      "execution_count": 2,
      "outputs": [
        {
          "output_type": "stream",
          "name": "stdout",
          "text": [
            "Done： /content/apple_case_study\n"
          ]
        }
      ]
    },
    {
      "cell_type": "code",
      "source": [
        "import tensorflow as tf\n",
        "\n",
        "print(\"Device：\")\n",
        "print(tf.config.list_physical_devices())\n"
      ],
      "metadata": {
        "colab": {
          "base_uri": "https://localhost:8080/"
        },
        "id": "eI_hM_0dw_yq",
        "outputId": "d88b4ca4-e461-4b51-ad31-7555e9fcaf32"
      },
      "execution_count": 3,
      "outputs": [
        {
          "output_type": "stream",
          "name": "stdout",
          "text": [
            "Device：\n",
            "[PhysicalDevice(name='/physical_device:CPU:0', device_type='CPU'), PhysicalDevice(name='/physical_device:GPU:0', device_type='GPU')]\n"
          ]
        }
      ]
    },
    {
      "cell_type": "markdown",
      "source": [
        "## Check how many categories and how many samples each category contains"
      ],
      "metadata": {
        "id": "bxI32-MVnMYS"
      }
    },
    {
      "cell_type": "code",
      "source": [
        "import os\n",
        "for root, dirs, files in os.walk(\"/content/apple_case_study\"):\n",
        "    print(root, \"files:\", dirs, \"count:\", len(files))"
      ],
      "metadata": {
        "colab": {
          "base_uri": "https://localhost:8080/"
        },
        "id": "v31lfLhJXP0o",
        "outputId": "a8943b27-c851-4f7a-c8d7-2c4f1dffb388"
      },
      "execution_count": 4,
      "outputs": [
        {
          "output_type": "stream",
          "name": "stdout",
          "text": [
            "/content/apple_case_study files: ['__MACOSX', 'squares'] count: 0\n",
            "/content/apple_case_study/__MACOSX files: ['squares'] count: 0\n",
            "/content/apple_case_study/__MACOSX/squares files: ['train', 'val'] count: 3\n",
            "/content/apple_case_study/__MACOSX/squares/train files: ['a', 'c', 'b'] count: 4\n",
            "/content/apple_case_study/__MACOSX/squares/train/a files: [] count: 501\n",
            "/content/apple_case_study/__MACOSX/squares/train/c files: [] count: 500\n",
            "/content/apple_case_study/__MACOSX/squares/train/b files: [] count: 501\n",
            "/content/apple_case_study/__MACOSX/squares/val files: ['a', 'c', 'b'] count: 4\n",
            "/content/apple_case_study/__MACOSX/squares/val/a files: [] count: 500\n",
            "/content/apple_case_study/__MACOSX/squares/val/c files: [] count: 500\n",
            "/content/apple_case_study/__MACOSX/squares/val/b files: [] count: 500\n",
            "/content/apple_case_study/squares files: ['train', 'val'] count: 1\n",
            "/content/apple_case_study/squares/train files: ['a', 'c', 'b'] count: 1\n",
            "/content/apple_case_study/squares/train/a files: [] count: 501\n",
            "/content/apple_case_study/squares/train/c files: [] count: 500\n",
            "/content/apple_case_study/squares/train/b files: [] count: 501\n",
            "/content/apple_case_study/squares/val files: ['a', 'c', 'b'] count: 1\n",
            "/content/apple_case_study/squares/val/a files: [] count: 500\n",
            "/content/apple_case_study/squares/val/c files: [] count: 500\n",
            "/content/apple_case_study/squares/val/b files: [] count: 500\n"
          ]
        }
      ]
    },
    {
      "cell_type": "markdown",
      "source": [
        "### Findings: we have three categories: a,b,c and each of them have 500 images for both train and val.\n",
        "\n",
        "Key points: Balance categories data and small training samples"
      ],
      "metadata": {
        "id": "H-OOzi4_nqG4"
      }
    },
    {
      "cell_type": "markdown",
      "source": [
        "# Image Preprocessing"
      ],
      "metadata": {
        "id": "3-74f9maYwv7"
      }
    },
    {
      "cell_type": "markdown",
      "source": [
        "### Preprocessing include: fix size, set up RGB, normalization and data augmentation"
      ],
      "metadata": {
        "id": "Yc_VnDmioTuP"
      }
    },
    {
      "cell_type": "code",
      "source": [
        "import tensorflow as tf\n",
        "\n",
        "# Fix image size\n",
        "IMG_SIZE = (224, 224)\n",
        "BATCH_SIZE = 32\n",
        "\n",
        "\n",
        "train_ds = tf.keras.preprocessing.image_dataset_from_directory(\n",
        "    \"/content/apple_case_study/squares/train\",\n",
        "    image_size=IMG_SIZE,\n",
        "    batch_size=BATCH_SIZE,\n",
        "    label_mode='categorical'\n",
        ")\n",
        "\n",
        "\n",
        "test_ds = tf.keras.preprocessing.image_dataset_from_directory(\n",
        "    \"/content/apple_case_study/squares/val\",\n",
        "    image_size=IMG_SIZE,\n",
        "    batch_size=BATCH_SIZE,\n",
        "    label_mode='categorical'\n",
        ")\n"
      ],
      "metadata": {
        "colab": {
          "base_uri": "https://localhost:8080/"
        },
        "id": "Ni_s6KTYWePj",
        "outputId": "3c406b39-2b0a-4811-9292-0b10cbe041f8"
      },
      "execution_count": 5,
      "outputs": [
        {
          "output_type": "stream",
          "name": "stdout",
          "text": [
            "Found 1500 files belonging to 3 classes.\n",
            "Found 1500 files belonging to 3 classes.\n"
          ]
        }
      ]
    },
    {
      "cell_type": "code",
      "source": [
        "class_names = test_ds.class_names"
      ],
      "metadata": {
        "id": "0kHuqA_2yGzc"
      },
      "execution_count": 6,
      "outputs": []
    },
    {
      "cell_type": "code",
      "source": [
        "for images, labels in train_ds.take(1):\n",
        "    print(\"image size:\", images.shape)\n",
        "    print(\"image type:\", images.dtype)\n"
      ],
      "metadata": {
        "colab": {
          "base_uri": "https://localhost:8080/"
        },
        "id": "sl-142g3YLA5",
        "outputId": "a9cf50c2-8c09-4fca-ca5a-10cb554ba011"
      },
      "execution_count": 7,
      "outputs": [
        {
          "output_type": "stream",
          "name": "stdout",
          "text": [
            "image size: (32, 224, 224, 3)\n",
            "image type: <dtype: 'float32'>\n"
          ]
        }
      ]
    },
    {
      "cell_type": "code",
      "source": [
        "for images, labels in test_ds.take(1):\n",
        "    print(\"image size:\", images.shape)  # (batch_size, height, width, channels)\n",
        "    print(\"image type:\", images.dtype)\n"
      ],
      "metadata": {
        "colab": {
          "base_uri": "https://localhost:8080/"
        },
        "id": "MrJ0atKfbiZe",
        "outputId": "dd79f112-dfea-4378-f971-df4ef3f76eca"
      },
      "execution_count": 8,
      "outputs": [
        {
          "output_type": "stream",
          "name": "stdout",
          "text": [
            "image size: (32, 224, 224, 3)\n",
            "image type: <dtype: 'float32'>\n"
          ]
        }
      ]
    },
    {
      "cell_type": "markdown",
      "source": [
        "Key points: No weird image dtypes"
      ],
      "metadata": {
        "id": "-wW7_m2LqtWB"
      }
    },
    {
      "cell_type": "code",
      "source": [
        "normalization_layer = tf.keras.layers.Rescaling(1./255)"
      ],
      "metadata": {
        "id": "eTJAr7Y4pyG8"
      },
      "execution_count": 9,
      "outputs": []
    },
    {
      "cell_type": "code",
      "source": [
        "data_augmentation = tf.keras.Sequential([\n",
        "    tf.keras.layers.RandomFlip(\"horizontal\"),\n",
        "    tf.keras.layers.RandomRotation(0.1),\n",
        "    tf.keras.layers.RandomZoom(0.1),\n",
        "])\n"
      ],
      "metadata": {
        "id": "Yu1xFoXiWsdP"
      },
      "execution_count": 10,
      "outputs": []
    },
    {
      "cell_type": "markdown",
      "source": [
        "# Model sequence (convNet)"
      ],
      "metadata": {
        "id": "NjJs8aj_Y0mR"
      }
    },
    {
      "cell_type": "code",
      "source": [
        "from tensorflow.keras import layers, models\n",
        "\n",
        "model = models.Sequential([\n",
        "    normalization_layer,  # normalization\n",
        "\n",
        "    data_augmentation,  # data augmentation\n",
        "\n",
        "    layers.Conv2D(32, 3, activation='relu'),\n",
        "    layers.MaxPooling2D(),\n",
        "\n",
        "    layers.Conv2D(64, 3, activation='relu'),\n",
        "    layers.MaxPooling2D(),\n",
        "\n",
        "    # layers.Flatten(),\n",
        "    layers.GlobalAveragePooling2D(),\n",
        "\n",
        "    layers.Dense(64, activation='relu'),\n",
        "    # layers.Dropout(0.5),\n",
        "    layers.Dense(3, activation='softmax')  # three class categories\n",
        "])\n"
      ],
      "metadata": {
        "id": "GIeBu4e2X5wC"
      },
      "execution_count": 20,
      "outputs": []
    },
    {
      "cell_type": "markdown",
      "source": [
        "Start with a simple convNet (x32x64) and then one layer head (x64) for three categories"
      ],
      "metadata": {
        "id": "qKaJAMIgq1ST"
      }
    },
    {
      "cell_type": "code",
      "source": [
        "AUTOTUNE = tf.data.AUTOTUNE\n",
        "\n",
        "train_ds = train_ds.cache().shuffle(1000).prefetch(buffer_size=AUTOTUNE)\n",
        "test_ds = test_ds.cache().prefetch(buffer_size=AUTOTUNE)\n"
      ],
      "metadata": {
        "id": "YEGsk9qQxWOM"
      },
      "execution_count": 16,
      "outputs": []
    },
    {
      "cell_type": "code",
      "source": [
        "import tensorflow as tf\n",
        "\n",
        "tf.debugging.set_log_device_placement(True)"
      ],
      "metadata": {
        "id": "bXDLmrZ3xcfS"
      },
      "execution_count": 17,
      "outputs": []
    },
    {
      "cell_type": "code",
      "source": [
        "from tensorflow.keras.callbacks import EarlyStopping\n",
        "model.compile(\n",
        "    optimizer='adam',\n",
        "    loss='categorical_crossentropy',\n",
        "    metrics=['accuracy']\n",
        ")\n",
        "\n",
        "\n",
        "early_stop = EarlyStopping(\n",
        "    monitor='val_accuracy',\n",
        "    patience=3,\n",
        "    restore_best_weights=True\n",
        ")\n",
        "history = model.fit(\n",
        "    train_ds,\n",
        "    validation_data=test_ds,\n",
        "    epochs=30,\n",
        "    callbacks=[early_stop]\n",
        ")\n"
      ],
      "metadata": {
        "colab": {
          "base_uri": "https://localhost:8080/"
        },
        "id": "MyA_H_tBYI80",
        "outputId": "327381c9-6b17-4a26-f7ac-1e4c2e6ffc3f"
      },
      "execution_count": 21,
      "outputs": [
        {
          "output_type": "stream",
          "name": "stdout",
          "text": [
            "Epoch 1/30\n",
            "\u001b[1m47/47\u001b[0m \u001b[32m━━━━━━━━━━━━━━━━━━━━\u001b[0m\u001b[37m\u001b[0m \u001b[1m6s\u001b[0m 54ms/step - accuracy: 0.3351 - loss: 1.1055 - val_accuracy: 0.3333 - val_loss: 1.0995\n",
            "Epoch 2/30\n",
            "\u001b[1m47/47\u001b[0m \u001b[32m━━━━━━━━━━━━━━━━━━━━\u001b[0m\u001b[37m\u001b[0m \u001b[1m2s\u001b[0m 48ms/step - accuracy: 0.3268 - loss: 1.1009 - val_accuracy: 0.3353 - val_loss: 1.0964\n",
            "Epoch 3/30\n",
            "\u001b[1m47/47\u001b[0m \u001b[32m━━━━━━━━━━━━━━━━━━━━\u001b[0m\u001b[37m\u001b[0m \u001b[1m2s\u001b[0m 49ms/step - accuracy: 0.3568 - loss: 1.0971 - val_accuracy: 0.3333 - val_loss: 1.1005\n",
            "Epoch 4/30\n",
            "\u001b[1m47/47\u001b[0m \u001b[32m━━━━━━━━━━━━━━━━━━━━\u001b[0m\u001b[37m\u001b[0m \u001b[1m3s\u001b[0m 48ms/step - accuracy: 0.3535 - loss: 1.0907 - val_accuracy: 0.4533 - val_loss: 1.0696\n",
            "Epoch 5/30\n",
            "\u001b[1m47/47\u001b[0m \u001b[32m━━━━━━━━━━━━━━━━━━━━\u001b[0m\u001b[37m\u001b[0m \u001b[1m2s\u001b[0m 50ms/step - accuracy: 0.5040 - loss: 1.0548 - val_accuracy: 0.5620 - val_loss: 0.9451\n",
            "Epoch 6/30\n",
            "\u001b[1m47/47\u001b[0m \u001b[32m━━━━━━━━━━━━━━━━━━━━\u001b[0m\u001b[37m\u001b[0m \u001b[1m3s\u001b[0m 50ms/step - accuracy: 0.5440 - loss: 0.9104 - val_accuracy: 0.6427 - val_loss: 0.7889\n",
            "Epoch 7/30\n",
            "\u001b[1m47/47\u001b[0m \u001b[32m━━━━━━━━━━━━━━━━━━━━\u001b[0m\u001b[37m\u001b[0m \u001b[1m2s\u001b[0m 48ms/step - accuracy: 0.6707 - loss: 0.7810 - val_accuracy: 0.5127 - val_loss: 0.7545\n",
            "Epoch 8/30\n",
            "\u001b[1m47/47\u001b[0m \u001b[32m━━━━━━━━━━━━━━━━━━━━\u001b[0m\u001b[37m\u001b[0m \u001b[1m3s\u001b[0m 49ms/step - accuracy: 0.6907 - loss: 0.6964 - val_accuracy: 0.7420 - val_loss: 0.6159\n",
            "Epoch 9/30\n",
            "\u001b[1m47/47\u001b[0m \u001b[32m━━━━━━━━━━━━━━━━━━━━\u001b[0m\u001b[37m\u001b[0m \u001b[1m2s\u001b[0m 49ms/step - accuracy: 0.7112 - loss: 0.6442 - val_accuracy: 0.7580 - val_loss: 0.5553\n",
            "Epoch 10/30\n",
            "\u001b[1m47/47\u001b[0m \u001b[32m━━━━━━━━━━━━━━━━━━━━\u001b[0m\u001b[37m\u001b[0m \u001b[1m3s\u001b[0m 49ms/step - accuracy: 0.7588 - loss: 0.5834 - val_accuracy: 0.7873 - val_loss: 0.5056\n",
            "Epoch 11/30\n",
            "\u001b[1m47/47\u001b[0m \u001b[32m━━━━━━━━━━━━━━━━━━━━\u001b[0m\u001b[37m\u001b[0m \u001b[1m3s\u001b[0m 51ms/step - accuracy: 0.7942 - loss: 0.5109 - val_accuracy: 0.8493 - val_loss: 0.4599\n",
            "Epoch 12/30\n",
            "\u001b[1m47/47\u001b[0m \u001b[32m━━━━━━━━━━━━━━━━━━━━\u001b[0m\u001b[37m\u001b[0m \u001b[1m2s\u001b[0m 49ms/step - accuracy: 0.8197 - loss: 0.4690 - val_accuracy: 0.8307 - val_loss: 0.4888\n",
            "Epoch 13/30\n",
            "\u001b[1m47/47\u001b[0m \u001b[32m━━━━━━━━━━━━━━━━━━━━\u001b[0m\u001b[37m\u001b[0m \u001b[1m2s\u001b[0m 49ms/step - accuracy: 0.8388 - loss: 0.4230 - val_accuracy: 0.8820 - val_loss: 0.3705\n",
            "Epoch 14/30\n",
            "\u001b[1m47/47\u001b[0m \u001b[32m━━━━━━━━━━━━━━━━━━━━\u001b[0m\u001b[37m\u001b[0m \u001b[1m3s\u001b[0m 50ms/step - accuracy: 0.8749 - loss: 0.3794 - val_accuracy: 0.8867 - val_loss: 0.3111\n",
            "Epoch 15/30\n",
            "\u001b[1m47/47\u001b[0m \u001b[32m━━━━━━━━━━━━━━━━━━━━\u001b[0m\u001b[37m\u001b[0m \u001b[1m2s\u001b[0m 49ms/step - accuracy: 0.8745 - loss: 0.3252 - val_accuracy: 0.9187 - val_loss: 0.2828\n",
            "Epoch 16/30\n",
            "\u001b[1m47/47\u001b[0m \u001b[32m━━━━━━━━━━━━━━━━━━━━\u001b[0m\u001b[37m\u001b[0m \u001b[1m2s\u001b[0m 51ms/step - accuracy: 0.8883 - loss: 0.3028 - val_accuracy: 0.9367 - val_loss: 0.2349\n",
            "Epoch 17/30\n",
            "\u001b[1m47/47\u001b[0m \u001b[32m━━━━━━━━━━━━━━━━━━━━\u001b[0m\u001b[37m\u001b[0m \u001b[1m2s\u001b[0m 50ms/step - accuracy: 0.9004 - loss: 0.2511 - val_accuracy: 0.9367 - val_loss: 0.2350\n",
            "Epoch 18/30\n",
            "\u001b[1m47/47\u001b[0m \u001b[32m━━━━━━━━━━━━━━━━━━━━\u001b[0m\u001b[37m\u001b[0m \u001b[1m2s\u001b[0m 49ms/step - accuracy: 0.9274 - loss: 0.2238 - val_accuracy: 0.9500 - val_loss: 0.2025\n",
            "Epoch 19/30\n",
            "\u001b[1m47/47\u001b[0m \u001b[32m━━━━━━━━━━━━━━━━━━━━\u001b[0m\u001b[37m\u001b[0m \u001b[1m2s\u001b[0m 49ms/step - accuracy: 0.9351 - loss: 0.1932 - val_accuracy: 0.9480 - val_loss: 0.1802\n",
            "Epoch 20/30\n",
            "\u001b[1m47/47\u001b[0m \u001b[32m━━━━━━━━━━━━━━━━━━━━\u001b[0m\u001b[37m\u001b[0m \u001b[1m2s\u001b[0m 49ms/step - accuracy: 0.9522 - loss: 0.1662 - val_accuracy: 0.9540 - val_loss: 0.1712\n",
            "Epoch 21/30\n",
            "\u001b[1m47/47\u001b[0m \u001b[32m━━━━━━━━━━━━━━━━━━━━\u001b[0m\u001b[37m\u001b[0m \u001b[1m2s\u001b[0m 51ms/step - accuracy: 0.9477 - loss: 0.1542 - val_accuracy: 0.9527 - val_loss: 0.1765\n",
            "Epoch 22/30\n",
            "\u001b[1m47/47\u001b[0m \u001b[32m━━━━━━━━━━━━━━━━━━━━\u001b[0m\u001b[37m\u001b[0m \u001b[1m3s\u001b[0m 52ms/step - accuracy: 0.9588 - loss: 0.1444 - val_accuracy: 0.9547 - val_loss: 0.1430\n",
            "Epoch 23/30\n",
            "\u001b[1m47/47\u001b[0m \u001b[32m━━━━━━━━━━━━━━━━━━━━\u001b[0m\u001b[37m\u001b[0m \u001b[1m2s\u001b[0m 49ms/step - accuracy: 0.9580 - loss: 0.1594 - val_accuracy: 0.9627 - val_loss: 0.1398\n",
            "Epoch 24/30\n",
            "\u001b[1m47/47\u001b[0m \u001b[32m━━━━━━━━━━━━━━━━━━━━\u001b[0m\u001b[37m\u001b[0m \u001b[1m2s\u001b[0m 49ms/step - accuracy: 0.9429 - loss: 0.1800 - val_accuracy: 0.9567 - val_loss: 0.1397\n",
            "Epoch 25/30\n",
            "\u001b[1m47/47\u001b[0m \u001b[32m━━━━━━━━━━━━━━━━━━━━\u001b[0m\u001b[37m\u001b[0m \u001b[1m2s\u001b[0m 49ms/step - accuracy: 0.9622 - loss: 0.1285 - val_accuracy: 0.9633 - val_loss: 0.1501\n",
            "Epoch 26/30\n",
            "\u001b[1m47/47\u001b[0m \u001b[32m━━━━━━━━━━━━━━━━━━━━\u001b[0m\u001b[37m\u001b[0m \u001b[1m2s\u001b[0m 49ms/step - accuracy: 0.9643 - loss: 0.1230 - val_accuracy: 0.9600 - val_loss: 0.1420\n",
            "Epoch 27/30\n",
            "\u001b[1m47/47\u001b[0m \u001b[32m━━━━━━━━━━━━━━━━━━━━\u001b[0m\u001b[37m\u001b[0m \u001b[1m2s\u001b[0m 51ms/step - accuracy: 0.9638 - loss: 0.1274 - val_accuracy: 0.9647 - val_loss: 0.1415\n",
            "Epoch 28/30\n",
            "\u001b[1m47/47\u001b[0m \u001b[32m━━━━━━━━━━━━━━━━━━━━\u001b[0m\u001b[37m\u001b[0m \u001b[1m2s\u001b[0m 50ms/step - accuracy: 0.9677 - loss: 0.1118 - val_accuracy: 0.9667 - val_loss: 0.1239\n",
            "Epoch 29/30\n",
            "\u001b[1m47/47\u001b[0m \u001b[32m━━━━━━━━━━━━━━━━━━━━\u001b[0m\u001b[37m\u001b[0m \u001b[1m2s\u001b[0m 48ms/step - accuracy: 0.9717 - loss: 0.1063 - val_accuracy: 0.9587 - val_loss: 0.1525\n",
            "Epoch 30/30\n",
            "\u001b[1m47/47\u001b[0m \u001b[32m━━━━━━━━━━━━━━━━━━━━\u001b[0m\u001b[37m\u001b[0m \u001b[1m3s\u001b[0m 49ms/step - accuracy: 0.9708 - loss: 0.0985 - val_accuracy: 0.9633 - val_loss: 0.1135\n"
          ]
        }
      ]
    },
    {
      "cell_type": "markdown",
      "source": [
        "### Plot the curve to see whether it is converged"
      ],
      "metadata": {
        "id": "AYtaxdzJrHbB"
      }
    },
    {
      "cell_type": "code",
      "source": [
        "import matplotlib.pyplot as plt\n",
        "\n",
        "plt.figure(figsize=(12, 4))\n",
        "\n",
        "plt.subplot(1, 2, 1)\n",
        "plt.plot(history.history['accuracy'], label='Train Acc')\n",
        "plt.plot(history.history['val_accuracy'], label='Val Acc')\n",
        "plt.legend()\n",
        "plt.title('Accuracy')\n",
        "\n",
        "plt.subplot(1, 2, 2)\n",
        "plt.plot(history.history['loss'], label='Train Loss')\n",
        "plt.plot(history.history['val_loss'], label='Val Loss')\n",
        "plt.legend()\n",
        "plt.title('Loss')\n",
        "\n",
        "plt.show()\n"
      ],
      "metadata": {
        "colab": {
          "base_uri": "https://localhost:8080/",
          "height": 381
        },
        "id": "T-GwW5t5cE4s",
        "outputId": "94e7b99c-aa6a-4076-8cbf-8f4f16ce15cf"
      },
      "execution_count": 22,
      "outputs": [
        {
          "output_type": "display_data",
          "data": {
            "text/plain": [
              "<Figure size 1200x400 with 2 Axes>"
            ],
            "image/png": "[encoded data removed]"
          },
          "metadata": {}
        }
      ]
    },
    {
      "cell_type": "markdown",
      "source": [
        "It seems like it converges and no overfitting thus save the current model."
      ],
      "metadata": {
        "id": "HWqTHgcSrQ_V"
      }
    },
    {
      "cell_type": "code",
      "source": [
        "model.save('conv_v2_GlobalAveragePooling2D.h5')  # save model\n"
      ],
      "metadata": {
        "colab": {
          "base_uri": "https://localhost:8080/"
        },
        "id": "7pmKfUghk3UJ",
        "outputId": "03a8f122-d0e7-4c65-bf8d-78d227087b5f"
      },
      "execution_count": 23,
      "outputs": [
        {
          "output_type": "stream",
          "name": "stderr",
          "text": [
            "WARNING:absl:You are saving your model as an HDF5 file via `model.save()` or `keras.saving.save_model(model)`. This file format is considered legacy. We recommend using instead the native Keras format, e.g. `model.save('my_model.keras')` or `keras.saving.save_model(model, 'my_model.keras')`. \n"
          ]
        }
      ]
    },
    {
      "cell_type": "markdown",
      "source": [
        "Currenty we know the previous model accuracy is 95% which is good but we can take a deeper look to see whether our model learns each class equivalently good."
      ],
      "metadata": {
        "id": "9R_2Pq0grhV-"
      }
    },
    {
      "cell_type": "code",
      "source": [
        "import numpy as np\n",
        "from sklearn.metrics import classification_report\n",
        "import tensorflow as tf\n",
        "\n",
        "y_true = []\n",
        "y_pred = []\n",
        "\n",
        "for images, labels in test_ds:\n",
        "    preds = model.predict(images)\n",
        "    y_true.extend(np.argmax(labels.numpy(), axis=1))\n",
        "    y_pred.extend(np.argmax(preds, axis=1))\n",
        "\n",
        "# class_names = test_ds.class_names\n",
        "\n",
        "report = classification_report(y_true, y_pred, target_names=class_names, digits=4)\n",
        "print(report)\n"
      ],
      "metadata": {
        "colab": {
          "base_uri": "https://localhost:8080/"
        },
        "id": "qpI8r7xklZK6",
        "outputId": "1c179619-6935-41c7-b499-cab92d5d0862"
      },
      "execution_count": 25,
      "outputs": [
        {
          "output_type": "stream",
          "name": "stdout",
          "text": [
            "\u001b[1m1/1\u001b[0m \u001b[32m━━━━━━━━━━━━━━━━━━━━\u001b[0m\u001b[37m\u001b[0m \u001b[1m0s\u001b[0m 76ms/step\n",
            "\u001b[1m1/1\u001b[0m \u001b[32m━━━━━━━━━━━━━━━━━━━━\u001b[0m\u001b[37m\u001b[0m \u001b[1m0s\u001b[0m 98ms/step\n",
            "\u001b[1m1/1\u001b[0m \u001b[32m━━━━━━━━━━━━━━━━━━━━\u001b[0m\u001b[37m\u001b[0m \u001b[1m0s\u001b[0m 63ms/step\n",
            "\u001b[1m1/1\u001b[0m \u001b[32m━━━━━━━━━━━━━━━━━━━━\u001b[0m\u001b[37m\u001b[0m \u001b[1m0s\u001b[0m 95ms/step\n",
            "\u001b[1m1/1\u001b[0m \u001b[32m━━━━━━━━━━━━━━━━━━━━\u001b[0m\u001b[37m\u001b[0m \u001b[1m0s\u001b[0m 63ms/step\n",
            "\u001b[1m1/1\u001b[0m \u001b[32m━━━━━━━━━━━━━━━━━━━━\u001b[0m\u001b[37m\u001b[0m \u001b[1m0s\u001b[0m 62ms/step\n",
            "\u001b[1m1/1\u001b[0m \u001b[32m━━━━━━━━━━━━━━━━━━━━\u001b[0m\u001b[37m\u001b[0m \u001b[1m0s\u001b[0m 63ms/step\n",
            "\u001b[1m1/1\u001b[0m \u001b[32m━━━━━━━━━━━━━━━━━━━━\u001b[0m\u001b[37m\u001b[0m \u001b[1m0s\u001b[0m 63ms/step\n",
            "\u001b[1m1/1\u001b[0m \u001b[32m━━━━━━━━━━━━━━━━━━━━\u001b[0m\u001b[37m\u001b[0m \u001b[1m0s\u001b[0m 78ms/step\n",
            "\u001b[1m1/1\u001b[0m \u001b[32m━━━━━━━━━━━━━━━━━━━━\u001b[0m\u001b[37m\u001b[0m \u001b[1m0s\u001b[0m 65ms/step\n",
            "\u001b[1m1/1\u001b[0m \u001b[32m━━━━━━━━━━━━━━━━━━━━\u001b[0m\u001b[37m\u001b[0m \u001b[1m0s\u001b[0m 48ms/step\n",
            "\u001b[1m1/1\u001b[0m \u001b[32m━━━━━━━━━━━━━━━━━━━━\u001b[0m\u001b[37m\u001b[0m \u001b[1m0s\u001b[0m 48ms/step\n",
            "\u001b[1m1/1\u001b[0m \u001b[32m━━━━━━━━━━━━━━━━━━━━\u001b[0m\u001b[37m\u001b[0m \u001b[1m0s\u001b[0m 47ms/step\n",
            "\u001b[1m1/1\u001b[0m \u001b[32m━━━━━━━━━━━━━━━━━━━━\u001b[0m\u001b[37m\u001b[0m \u001b[1m0s\u001b[0m 47ms/step\n",
            "\u001b[1m1/1\u001b[0m \u001b[32m━━━━━━━━━━━━━━━━━━━━\u001b[0m\u001b[37m\u001b[0m \u001b[1m0s\u001b[0m 47ms/step\n",
            "\u001b[1m1/1\u001b[0m \u001b[32m━━━━━━━━━━━━━━━━━━━━\u001b[0m\u001b[37m\u001b[0m \u001b[1m0s\u001b[0m 57ms/step\n",
            "\u001b[1m1/1\u001b[0m \u001b[32m━━━━━━━━━━━━━━━━━━━━\u001b[0m\u001b[37m\u001b[0m \u001b[1m0s\u001b[0m 47ms/step\n",
            "\u001b[1m1/1\u001b[0m \u001b[32m━━━━━━━━━━━━━━━━━━━━\u001b[0m\u001b[37m\u001b[0m \u001b[1m0s\u001b[0m 47ms/step\n",
            "\u001b[1m1/1\u001b[0m \u001b[32m━━━━━━━━━━━━━━━━━━━━\u001b[0m\u001b[37m\u001b[0m \u001b[1m0s\u001b[0m 51ms/step\n",
            "\u001b[1m1/1\u001b[0m \u001b[32m━━━━━━━━━━━━━━━━━━━━\u001b[0m\u001b[37m\u001b[0m \u001b[1m0s\u001b[0m 46ms/step\n",
            "\u001b[1m1/1\u001b[0m \u001b[32m━━━━━━━━━━━━━━━━━━━━\u001b[0m\u001b[37m\u001b[0m \u001b[1m0s\u001b[0m 47ms/step\n",
            "\u001b[1m1/1\u001b[0m \u001b[32m━━━━━━━━━━━━━━━━━━━━\u001b[0m\u001b[37m\u001b[0m \u001b[1m0s\u001b[0m 48ms/step\n",
            "\u001b[1m1/1\u001b[0m \u001b[32m━━━━━━━━━━━━━━━━━━━━\u001b[0m\u001b[37m\u001b[0m \u001b[1m0s\u001b[0m 47ms/step\n",
            "\u001b[1m1/1\u001b[0m \u001b[32m━━━━━━━━━━━━━━━━━━━━\u001b[0m\u001b[37m\u001b[0m \u001b[1m0s\u001b[0m 53ms/step\n",
            "\u001b[1m1/1\u001b[0m \u001b[32m━━━━━━━━━━━━━━━━━━━━\u001b[0m\u001b[37m\u001b[0m \u001b[1m0s\u001b[0m 48ms/step\n",
            "\u001b[1m1/1\u001b[0m \u001b[32m━━━━━━━━━━━━━━━━━━━━\u001b[0m\u001b[37m\u001b[0m \u001b[1m0s\u001b[0m 46ms/step\n",
            "\u001b[1m1/1\u001b[0m \u001b[32m━━━━━━━━━━━━━━━━━━━━\u001b[0m\u001b[37m\u001b[0m \u001b[1m0s\u001b[0m 52ms/step\n",
            "\u001b[1m1/1\u001b[0m \u001b[32m━━━━━━━━━━━━━━━━━━━━\u001b[0m\u001b[37m\u001b[0m \u001b[1m0s\u001b[0m 47ms/step\n",
            "\u001b[1m1/1\u001b[0m \u001b[32m━━━━━━━━━━━━━━━━━━━━\u001b[0m\u001b[37m\u001b[0m \u001b[1m0s\u001b[0m 45ms/step\n",
            "\u001b[1m1/1\u001b[0m \u001b[32m━━━━━━━━━━━━━━━━━━━━\u001b[0m\u001b[37m\u001b[0m \u001b[1m0s\u001b[0m 45ms/step\n",
            "\u001b[1m1/1\u001b[0m \u001b[32m━━━━━━━━━━━━━━━━━━━━\u001b[0m\u001b[37m\u001b[0m \u001b[1m0s\u001b[0m 49ms/step\n",
            "\u001b[1m1/1\u001b[0m \u001b[32m━━━━━━━━━━━━━━━━━━━━\u001b[0m\u001b[37m\u001b[0m \u001b[1m0s\u001b[0m 45ms/step\n",
            "\u001b[1m1/1\u001b[0m \u001b[32m━━━━━━━━━━━━━━━━━━━━\u001b[0m\u001b[37m\u001b[0m \u001b[1m0s\u001b[0m 47ms/step\n",
            "\u001b[1m1/1\u001b[0m \u001b[32m━━━━━━━━━━━━━━━━━━━━\u001b[0m\u001b[37m\u001b[0m \u001b[1m0s\u001b[0m 49ms/step\n",
            "\u001b[1m1/1\u001b[0m \u001b[32m━━━━━━━━━━━━━━━━━━━━\u001b[0m\u001b[37m\u001b[0m \u001b[1m0s\u001b[0m 48ms/step\n",
            "\u001b[1m1/1\u001b[0m \u001b[32m━━━━━━━━━━━━━━━━━━━━\u001b[0m\u001b[37m\u001b[0m \u001b[1m0s\u001b[0m 46ms/step\n",
            "\u001b[1m1/1\u001b[0m \u001b[32m━━━━━━━━━━━━━━━━━━━━\u001b[0m\u001b[37m\u001b[0m \u001b[1m0s\u001b[0m 48ms/step\n",
            "\u001b[1m1/1\u001b[0m \u001b[32m━━━━━━━━━━━━━━━━━━━━\u001b[0m\u001b[37m\u001b[0m \u001b[1m0s\u001b[0m 54ms/step\n",
            "\u001b[1m1/1\u001b[0m \u001b[32m━━━━━━━━━━━━━━━━━━━━\u001b[0m\u001b[37m\u001b[0m \u001b[1m0s\u001b[0m 47ms/step\n",
            "\u001b[1m1/1\u001b[0m \u001b[32m━━━━━━━━━━━━━━━━━━━━\u001b[0m\u001b[37m\u001b[0m \u001b[1m0s\u001b[0m 48ms/step\n",
            "\u001b[1m1/1\u001b[0m \u001b[32m━━━━━━━━━━━━━━━━━━━━\u001b[0m\u001b[37m\u001b[0m \u001b[1m0s\u001b[0m 46ms/step\n",
            "\u001b[1m1/1\u001b[0m \u001b[32m━━━━━━━━━━━━━━━━━━━━\u001b[0m\u001b[37m\u001b[0m \u001b[1m0s\u001b[0m 45ms/step\n",
            "\u001b[1m1/1\u001b[0m \u001b[32m━━━━━━━━━━━━━━━━━━━━\u001b[0m\u001b[37m\u001b[0m \u001b[1m0s\u001b[0m 47ms/step\n",
            "\u001b[1m1/1\u001b[0m \u001b[32m━━━━━━━━━━━━━━━━━━━━\u001b[0m\u001b[37m\u001b[0m \u001b[1m0s\u001b[0m 46ms/step\n",
            "\u001b[1m1/1\u001b[0m \u001b[32m━━━━━━━━━━━━━━━━━━━━\u001b[0m\u001b[37m\u001b[0m \u001b[1m0s\u001b[0m 47ms/step\n",
            "\u001b[1m1/1\u001b[0m \u001b[32m━━━━━━━━━━━━━━━━━━━━\u001b[0m\u001b[37m\u001b[0m \u001b[1m0s\u001b[0m 48ms/step\n",
            "\u001b[1m1/1\u001b[0m \u001b[32m━━━━━━━━━━━━━━━━━━━━\u001b[0m\u001b[37m\u001b[0m \u001b[1m0s\u001b[0m 51ms/step\n",
            "              precision    recall  f1-score   support\n",
            "\n",
            "           a     0.9593    0.9900    0.9744       500\n",
            "           b     0.9688    0.9300    0.9490       500\n",
            "           c     0.9722    0.9800    0.9761       500\n",
            "\n",
            "    accuracy                         0.9667      1500\n",
            "   macro avg     0.9668    0.9667    0.9665      1500\n",
            "weighted avg     0.9668    0.9667    0.9665      1500\n",
            "\n"
          ]
        }
      ]
    },
    {
      "cell_type": "markdown",
      "source": [
        "Model achieved 97.1% overall accuracy. All three classes had precision and recall in the 96–99% range, with class b being slightly more challenging, likely due to subtle visual overlaps with class a."
      ],
      "metadata": {
        "id": "bwFAOJ6DyYEa"
      }
    },
    {
      "cell_type": "markdown",
      "source": [
        "Interestingly, I didn’t change the model architecture—just re-trained it with GPU acceleration, better data pipeline (cache + prefetch), and cleaner Colab session. The accuracy jumped from ~92.8% to over 97%. This shows that:\n",
        "\n",
        "The model was already well-designed\n",
        "\n",
        "Prior slowness and instability (e.g. CPU + no pipeline optimization) might have caused suboptimal convergence\n",
        "\n",
        "Training reproducibility and environment tuning can have a major impact even when architecture stays the same”"
      ],
      "metadata": {
        "id": "aw-FQqH3ytEK"
      }
    },
    {
      "cell_type": "markdown",
      "source": [
        "### After using globalaverage to reduce parameters\n",
        "Model became much lighter — parameter count dropped from ~12M to under 100K — but performance remained very strong: overall accuracy at 96.7%, with especially robust precision and recall for all classes.”\n",
        "\n",
        "“This confirms that the model wasn’t undertrained — it had likely learned what it could — and the simplification helped reduce overfitting risk without hurting performance.”\n",
        "\n"
      ],
      "metadata": {
        "id": "TjrvS03AlMgy"
      }
    },
    {
      "cell_type": "code",
      "source": [],
      "metadata": {
        "id": "WaGxnx8nlMJ8"
      },
      "execution_count": null,
      "outputs": []
    },
    {
      "cell_type": "code",
      "source": [
        "from sklearn.metrics import confusion_matrix, ConfusionMatrixDisplay\n",
        "\n",
        "cm = confusion_matrix(y_true, y_pred)\n",
        "disp = ConfusionMatrixDisplay(confusion_matrix=cm, display_labels=class_names)\n",
        "disp.plot(cmap='Blues')\n",
        "plt.title(\"Confusion Matrix\")\n",
        "plt.show()\n"
      ],
      "metadata": {
        "colab": {
          "base_uri": "https://localhost:8080/",
          "height": 472
        },
        "id": "baS5dBIxtcHJ",
        "outputId": "05918dc2-a7f0-4bbf-8db9-f78e4058215d"
      },
      "execution_count": 26,
      "outputs": [
        {
          "output_type": "display_data",
          "data": {
            "text/plain": [
              "<Figure size 640x480 with 2 Axes>"
            ],
            "image/png": "[encoded data removed]"
          },
          "metadata": {}
        }
      ]
    },
    {
      "cell_type": "markdown",
      "source": [
        "So it seems like for for a and c, we have pretty good precision and recall. If we break down b we can found:\n",
        "almost all a and c are succeeded to clarify and low precision is from b misclaried as a or c.\n",
        "\n",
        "Thus we can plot some misclarified b and compared it with a to see why they are misclarified"
      ],
      "metadata": {
        "id": "lXSiaYtTrxm5"
      }
    },
    {
      "cell_type": "code",
      "source": [
        "import matplotlib.pyplot as plt\n",
        "import numpy as np\n",
        "\n",
        "test_images = []\n",
        "test_labels = []\n",
        "\n",
        "for images, labels in test_ds:\n",
        "    test_images.extend(images)\n",
        "    test_labels.extend(labels.numpy())\n",
        "\n",
        "# predict\n",
        "preds = model.predict(tf.stack(test_images))\n",
        "pred_labels = tf.argmax(preds, axis=1).numpy()\n",
        "true_labels = tf.argmax(test_labels, axis=1).numpy()\n",
        "\n",
        "# focus on a and b\n",
        "class_index_a = 0\n",
        "class_index_b = 1\n",
        "\n",
        "# b misclarify as a\n",
        "wrong_idx = [i for i, (t, p) in enumerate(zip(true_labels, pred_labels)) if t == class_index_b and p == class_index_a]\n",
        "\n",
        "# true a\n",
        "true_a_idx = [i for i, (t, p) in enumerate(zip(true_labels, pred_labels)) if t == class_index_a and p == class_index_a]\n",
        "\n",
        "# true b\n",
        "true_b_idx = [i for i, (t, p) in enumerate(zip(true_labels, pred_labels)) if t == class_index_b and p == class_index_b]\n",
        "\n",
        "# pick top 5 to compare\n",
        "num_samples = min(5, len(wrong_idx), len(true_a_idx), len(true_b_idx))\n",
        "\n",
        "plt.figure(figsize=(15, 3 * num_samples))\n",
        "\n",
        "for i in range(num_samples):\n",
        "    #（Pred a, True b）\n",
        "    idx_wrong = wrong_idx[i]\n",
        "    plt.subplot(num_samples, 3, i * 3 + 1)\n",
        "    plt.imshow(test_images[idx_wrong].numpy().astype(\"uint8\"))\n",
        "    plt.axis('off')\n",
        "    plt.title(\"Pred a\\nTrue b\", fontsize=10)\n",
        "\n",
        "    # true a\n",
        "    idx_a = true_a_idx[i]\n",
        "    plt.subplot(num_samples, 3, i * 3 + 2)\n",
        "    plt.imshow(test_images[idx_a].numpy().astype(\"uint8\"))\n",
        "    plt.axis('off')\n",
        "    plt.title(\"True a\", fontsize=10)\n",
        "\n",
        "    # true b\n",
        "    idx_b = true_b_idx[i]\n",
        "    plt.subplot(num_samples, 3, i * 3 + 3)\n",
        "    plt.imshow(test_images[idx_b].numpy().astype(\"uint8\"))\n",
        "    plt.axis('off')\n",
        "    plt.title(\"True b\", fontsize=10)\n",
        "\n",
        "plt.tight_layout()\n",
        "plt.suptitle(\"Misclassified b→a vs True a vs True b\", fontsize=14, y=1.02)\n",
        "plt.show()\n"
      ],
      "metadata": {
        "colab": {
          "base_uri": "https://localhost:8080/",
          "height": 1000
        },
        "id": "PTce0Ggaur_V",
        "outputId": "2dffd12f-29f2-4b18-dee8-9d1ceb68da24"
      },
      "execution_count": 27,
      "outputs": [
        {
          "output_type": "stream",
          "name": "stdout",
          "text": [
            "\u001b[1m47/47\u001b[0m \u001b[32m━━━━━━━━━━━━━━━━━━━━\u001b[0m\u001b[37m\u001b[0m \u001b[1m1s\u001b[0m 18ms/step\n"
          ]
        },
        {
          "output_type": "display_data",
          "data": {
            "text/plain": [
              "<Figure size 1500x1500 with 15 Axes>"
            ],
            "image/png": "[encoded data removed]"
          },
          "metadata": {}
        }
      ]
    },
    {
      "cell_type": "markdown",
      "source": [
        "In this example, the misclassified b samples are visually indistinguishable from class a — both in terms of color and shape. These errors are not due to model flaws, but rather due to semantic overlap in the input space. Even a human would likely confuse them without additional context.”\n",
        "\n",
        "“This highlights the limits of purely image-based classification — some ambiguity is inherent, and additional modalities or metadata may be required to push performance further.”"
      ],
      "metadata": {
        "id": "MJZnBcAtzRen"
      }
    },
    {
      "cell_type": "code",
      "source": [
        "import matplotlib.pyplot as plt\n",
        "import numpy as np\n",
        "\n",
        "test_images = []\n",
        "test_labels = []\n",
        "\n",
        "for images, labels in test_ds:\n",
        "    test_images.extend(images)\n",
        "    test_labels.extend(labels.numpy())\n",
        "\n",
        "# predict\n",
        "preds = model.predict(tf.stack(test_images))\n",
        "pred_labels = tf.argmax(preds, axis=1).numpy()\n",
        "true_labels = tf.argmax(test_labels, axis=1).numpy()\n",
        "\n",
        "# focus on a and b\n",
        "class_index_c = 0\n",
        "class_index_b = 1\n",
        "\n",
        "# b misclarify as c\n",
        "wrong_idx = [i for i, (t, p) in enumerate(zip(true_labels, pred_labels)) if t == class_index_b and p == class_index_c]\n",
        "\n",
        "# true c\n",
        "true_a_idx = [i for i, (t, p) in enumerate(zip(true_labels, pred_labels)) if t == class_index_c and p == class_index_c]\n",
        "\n",
        "# true b\n",
        "true_b_idx = [i for i, (t, p) in enumerate(zip(true_labels, pred_labels)) if t == class_index_b and p == class_index_b]\n",
        "\n",
        "# pick top 5 to compare\n",
        "num_samples = min(5, len(wrong_idx), len(true_a_idx), len(true_b_idx))\n",
        "\n",
        "plt.figure(figsize=(15, 3 * num_samples))\n",
        "\n",
        "for i in range(num_samples):\n",
        "    #（Pred a, True b）\n",
        "    idx_wrong = wrong_idx[i]\n",
        "    plt.subplot(num_samples, 3, i * 3 + 1)\n",
        "    plt.imshow(test_images[idx_wrong].numpy().astype(\"uint8\"))\n",
        "    plt.axis('off')\n",
        "    plt.title(\"Pred c\\nTrue b\", fontsize=10)\n",
        "\n",
        "    # true c\n",
        "    idx_a = true_a_idx[i]\n",
        "    plt.subplot(num_samples, 3, i * 3 + 2)\n",
        "    plt.imshow(test_images[idx_a].numpy().astype(\"uint8\"))\n",
        "    plt.axis('off')\n",
        "    plt.title(\"True c\", fontsize=10)\n",
        "\n",
        "    # true b\n",
        "    idx_b = true_b_idx[i]\n",
        "    plt.subplot(num_samples, 3, i * 3 + 3)\n",
        "    plt.imshow(test_images[idx_b].numpy().astype(\"uint8\"))\n",
        "    plt.axis('off')\n",
        "    plt.title(\"True b\", fontsize=10)\n",
        "\n",
        "plt.tight_layout()\n",
        "plt.suptitle(\"Misclassified b→c vs True c vs True b\", fontsize=14, y=1.02)\n",
        "plt.show()\n"
      ],
      "metadata": {
        "colab": {
          "base_uri": "https://localhost:8080/",
          "height": 1000
        },
        "id": "oM3S9iWqzZo-",
        "outputId": "8e44b76d-2795-4f58-e8e6-b2832a81261a"
      },
      "execution_count": 28,
      "outputs": [
        {
          "output_type": "stream",
          "name": "stdout",
          "text": [
            "\u001b[1m47/47\u001b[0m \u001b[32m━━━━━━━━━━━━━━━━━━━━\u001b[0m\u001b[37m\u001b[0m \u001b[1m1s\u001b[0m 19ms/step\n"
          ]
        },
        {
          "output_type": "display_data",
          "data": {
            "text/plain": [
              "<Figure size 1500x1500 with 15 Axes>"
            ],
            "image/png": "[encoded data removed]"
          },
          "metadata": {}
        }
      ]
    },
    {
      "cell_type": "markdown",
      "source": [
        "## Summary\n",
        "\n",
        "This model has achieved high accuracy, with both recall and precision in the 92–98% range — particularly strong for class c. Most misclassifications (e.g., class b misclassified as class a) occur on visually ambiguous samples with low information content. In real-world settings, these examples often fall into the category of “even humans would struggle to distinguish them”, indicating that further aggressive optimization is not only unnecessary but potentially misleading.\n",
        "\n",
        "## Key Insight:\n",
        "\n",
        "The model has already learned what it should learn — this is not undertraining, but a reflection of the natural ambiguity in the data itself.\n",
        "\n",
        "## Potential Next Steps:\n",
        "\n",
        "If class b contains heterogeneous visual patterns, consider splitting it into finer-grained subtypes or re-annotating ambiguous samples for better label clarity.\n",
        "\n",
        "Optionally explore multi-modal input or contextual metadata, if available, to disambiguate visually similar classes.\n",
        "\n"
      ],
      "metadata": {
        "id": "SqRr6Dpo03ts"
      }
    },
    {
      "cell_type": "code",
      "source": [],
      "metadata": {
        "id": "wztoiiru1jbZ"
      },
      "execution_count": null,
      "outputs": []
    }
  ]
}